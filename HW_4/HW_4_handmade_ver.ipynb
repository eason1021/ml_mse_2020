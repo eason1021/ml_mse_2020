{
 "cells": [
  {
   "cell_type": "markdown",
   "metadata": {},
   "source": [
    "## Import modules"
   ]
  },
  {
   "cell_type": "code",
   "execution_count": 2,
   "metadata": {},
   "outputs": [],
   "source": [
    "import numpy as np\n",
    "import math\n",
    "import prettytable as pt"
   ]
  },
  {
   "cell_type": "markdown",
   "metadata": {},
   "source": [
    "## Define loss function"
   ]
  },
  {
   "cell_type": "code",
   "execution_count": 3,
   "metadata": {},
   "outputs": [],
   "source": [
    "def MSELoss(label, prediction) :\n",
    "    if label.shape[0] == prediction.shape[0] and label.shape[1] == prediction.shape[1] :\n",
    "        loss = 0\n",
    "        for row in range(label.shape[0]) :\n",
    "            for col in range(label.shape[1]) :\n",
    "                loss = loss + (label[row, col] - prediction[row, col])**2\n",
    "        loss = loss / (label.shape[0])\n",
    "        loss = loss / (label.shape[1])\n",
    "        return loss\n",
    "\n",
    "    else :\n",
    "        raise Exception('The label and prediction have different shapes')\n",
    "\n",
    "def MAELoss(label, prediction) :\n",
    "    if label.shape[0] == prediction.shape[0] and label.shape[1] == prediction.shape[1] :\n",
    "        loss = 0\n",
    "        for row in range(label.shape[0]) :\n",
    "            for col in range(label.shape[1]) :\n",
    "                loss = loss + np.abs((label[row, col] - prediction[row, col]))\n",
    "        loss = loss / (label.shape[0])\n",
    "        loss = loss / (label.shape[1])\n",
    "        return loss\n",
    "\n",
    "    else :\n",
    "        raise Exception('The label and prediction have different shapes')\n",
    "\n",
    "def CrossEntropy(label, prediction) :\n",
    "    if label.shape[0] == prediction.shape[0] and label.shape[1] == prediction.shape[1] :\n",
    "        loss = -1 * np.sum(label * np.log(prediction))\n",
    "        loss = loss / (label.shape[0]) \n",
    "        #loss = loss / (label.shape[1])\n",
    "        return loss\n",
    "\n",
    "    else :\n",
    "        raise Exception('The label and prediction have different shapes')"
   ]
  },
  {
   "cell_type": "markdown",
   "metadata": {},
   "source": [
    "## Model1"
   ]
  },
  {
   "cell_type": "code",
   "execution_count": 4,
   "metadata": {},
   "outputs": [],
   "source": [
    "predict1 = np.array([0.4, 0.3, 0.3, 0.3, 0.4, 0.3, 0.5, 0.2, 0.3, 0.6, 0.2, 0.2])\n",
    "predict1 = np.reshape(predict1,(4,3))\n",
    "label1 = np.array([1, 0, 0, 0, 1, 0, 1, 0, 0, 0, 0, 1])\n",
    "label1 = np.reshape(label1,(4,3))\n",
    "\n",
    "model1_mse = MSELoss(label1, predict1)\n",
    "model1_mae = MAELoss(label1, predict1)\n",
    "model1_cross_entropy = CrossEntropy(label1, predict1)"
   ]
  },
  {
   "cell_type": "markdown",
   "metadata": {},
   "source": [
    "## Model2"
   ]
  },
  {
   "cell_type": "code",
   "execution_count": 5,
   "metadata": {},
   "outputs": [],
   "source": [
    "predict2 = np.array([0.8, 0.1, 0.1, 0.1, 0.7, 0.2, 0.7, 0.1, 0.2, 0.4, 0.3, 0.3])\n",
    "predict2 = np.reshape(predict2,(4,3))\n",
    "label2 = np.array([1, 0, 0, 0, 1, 0, 1, 0, 0, 0, 0, 1])\n",
    "label2 = np.reshape(label2,(4,3))\n",
    "model2_mse = MSELoss(label2, predict2)\n",
    "model2_mae = MAELoss(label2, predict2)\n",
    "model2_cross_entropy = CrossEntropy(label2, predict2)"
   ]
  },
  {
   "cell_type": "markdown",
   "metadata": {},
   "source": [
    "## Visualize results"
   ]
  },
  {
   "cell_type": "code",
   "execution_count": 6,
   "metadata": {},
   "outputs": [
    {
     "name": "stdout",
     "output_type": "stream",
     "text": [
      "+--------+---------------------+--------------------+--------------------+\n",
      "| Model  |         MSE         |        MAE         |   Cross-Entropy    |\n",
      "+--------+---------------------+--------------------+--------------------+\n",
      "| Model1 | 0.20833333333333334 | 0.4166666666666667 | 1.0337916391855888 |\n",
      "| Model2 | 0.09000000000000001 |        0.25        | 0.5351165608794026 |\n",
      "+--------+---------------------+--------------------+--------------------+\n"
     ]
    }
   ],
   "source": [
    "table = pt.PrettyTable()\n",
    "table.field_names = ['Model', 'MSE', 'MAE', 'Cross-Entropy']\n",
    "table.add_row(['Model1', model1_mse, model1_mae, model1_cross_entropy])\n",
    "table.add_row(['Model2', model2_mse, model2_mae, model2_cross_entropy])\n",
    "print(table)"
   ]
  }
 ],
 "metadata": {
  "kernelspec": {
   "display_name": "Python 3.7.6 64-bit",
   "language": "python",
   "name": "python37664bit5c9b82d5874a4d188647ecc40f57ab34"
  },
  "language_info": {
   "codemirror_mode": {
    "name": "ipython",
    "version": 3
   },
   "file_extension": ".py",
   "mimetype": "text/x-python",
   "name": "python",
   "nbconvert_exporter": "python",
   "pygments_lexer": "ipython3",
   "version": "3.7.6"
  }
 },
 "nbformat": 4,
 "nbformat_minor": 4
}
