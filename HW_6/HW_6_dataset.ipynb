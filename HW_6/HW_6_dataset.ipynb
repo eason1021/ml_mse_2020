{
 "cells": [
  {
   "cell_type": "markdown",
   "metadata": {},
   "source": [
    "## Import Modules"
   ]
  },
  {
   "cell_type": "code",
   "execution_count": null,
   "metadata": {},
   "outputs": [],
   "source": [
    "import numpy as np\n",
    "import random\n",
    "import math\n",
    "import pandas as pd"
   ]
  },
  {
   "cell_type": "markdown",
   "metadata": {},
   "source": [
    "## produce input data"
   ]
  },
  {
   "cell_type": "code",
   "execution_count": null,
   "metadata": {},
   "outputs": [],
   "source": [
    "v_list = []\n",
    "angle_list = []\n",
    "h_list = []\n",
    "d_list = []\n",
    "\n",
    "for i in range(55000):\n",
    "\tangle = random.uniform(0, math.pi/2)\n",
    "\tv = random.uniform(0, 50)\n",
    "\th = ((v*math.sin(angle))**2)/19.6\n",
    "\td = ((v**2)*2*math.sin(angle)*math.cos(angle))/9.8\n",
    "\tv_list.append(v)\n",
    "\tangle_list.append(angle)\n",
    "\th_list.append(h)\n",
    "\td_list.append(d)\n",
    "\n",
    "v_array = np.array(v_list).reshape(-1,1)\n",
    "angle_array = np.array(angle_list).reshape(-1,1)"
   ]
  },
  {
   "cell_type": "markdown",
   "metadata": {},
   "source": [
    "## produce label"
   ]
  },
  {
   "cell_type": "code",
   "execution_count": null,
   "metadata": {},
   "outputs": [],
   "source": [
    "h_array = np.array(h_list).reshape(-1,1)\n",
    "d_array = np.array(d_list).reshape(-1,1)"
   ]
  },
  {
   "cell_type": "markdown",
   "metadata": {},
   "source": [
    "## Output datasets"
   ]
  },
  {
   "cell_type": "code",
   "execution_count": null,
   "metadata": {},
   "outputs": [],
   "source": [
    "#col1 = initial velocity, col2 = angle, col3 = height, col4 = distance\n",
    "df = np.column_stack((v_array, angle_array, h_array, d_array))\n",
    "df = pd.DataFrame(df)\n",
    "df.to_csv('dataset2.csv')"
   ]
  }
 ],
 "metadata": {
  "kernelspec": {
   "display_name": "Python 3.7.6 64-bit",
   "language": "python",
   "name": "python37664bit5c9b82d5874a4d188647ecc40f57ab34"
  },
  "language_info": {
   "codemirror_mode": {
    "name": "ipython",
    "version": 3
   },
   "file_extension": ".py",
   "mimetype": "text/x-python",
   "name": "python",
   "nbconvert_exporter": "python",
   "pygments_lexer": "ipython3",
   "version": "3.7.6"
  }
 },
 "nbformat": 4,
 "nbformat_minor": 4
}
